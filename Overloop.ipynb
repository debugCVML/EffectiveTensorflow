{
 "cells": [
  {
   "cell_type": "markdown",
   "metadata": {},
   "source": [
    "# Effective TensorFlow"
   ]
  },
  {
   "cell_type": "markdown",
   "metadata": {},
   "source": [
    "## 1 基本的数据结构"
   ]
  },
  {
   "cell_type": "code",
   "execution_count": 1,
   "metadata": {},
   "outputs": [
    {
     "name": "stdout",
     "output_type": "stream",
     "text": [
      "[[ 0.80236723 -0.72615633  0.74884724]\n",
      " [-0.35499364  0.83317327 -1.39034001]\n",
      " [-2.80633639  2.81632086  0.7470597 ]]\n"
     ]
    }
   ],
   "source": [
    "# Numpy\n",
    "# 用Numpy产生随机数向量，并进行向量点乘\n",
    "\n",
    "import numpy as np\n",
    "\n",
    "x = np.random.normal(size=[3,3])\n",
    "y = np.random.normal(size=[3,3])\n",
    "z = np.dot(x,y)\n",
    "\n",
    "print(z)"
   ]
  },
  {
   "cell_type": "code",
   "execution_count": 2,
   "metadata": {},
   "outputs": [
    {
     "name": "stdout",
     "output_type": "stream",
     "text": [
      "[[-0.06076807 -2.09271359 -0.41827142]\n",
      " [-1.60172617  3.15638876  1.11673987]\n",
      " [-0.31115821  1.31234944  0.39941484]]\n"
     ]
    }
   ],
   "source": [
    "# TensorFlow\n",
    "# 用TensorFlow产生两个随机矩阵，并计算两个矩阵的乘积\n",
    "\n",
    "import tensorflow as tf\n",
    "x = tf.random_normal([3,3])\n",
    "y = tf.random_normal([3,3])\n",
    "z = tf.matmul(x,y)\n",
    "\n",
    "with tf.Session() as sess:\n",
    "    print(sess.run(z))"
   ]
  },
  {
   "cell_type": "markdown",
   "metadata": {},
   "source": [
    "## 2 使用TensorFlow拟合曲线\n",
    "\n",
    "假设有这样一条曲线， f(x) = 5x^2 + 3，用它产生数据，还有一条这样的曲线g(x, w) = w0 x^2 + w1 x + w2，让两条曲线近似相等，计算出所最有的W。"
   ]
  },
  {
   "cell_type": "code",
   "execution_count": 3,
   "metadata": {},
   "outputs": [
    {
     "data": {
      "text/plain": [
       "<matplotlib.figure.Figure at 0x7fb56c472ac8>"
      ]
     },
     "metadata": {},
     "output_type": "display_data"
    },
    {
     "name": "stdout",
     "output_type": "stream",
     "text": [
      "[array([[ 4.74912357],\n",
      "       [-0.0360656 ],\n",
      "       [ 5.31532383]], dtype=float32)]\n"
     ]
    }
   ],
   "source": [
    "# 重置计算图\n",
    "tf.reset_default_graph()\n",
    "\n",
    "# 引入包\n",
    "import tensorflow as tf\n",
    "import numpy as np\n",
    "import matplotlib.pyplot as plt\n",
    "\n",
    "# 记录不长\n",
    "show_step = 20\n",
    "# 记录损失序列\n",
    "all_loss = []\n",
    "\n",
    "# 两个占位符\n",
    "x = tf.placeholder(tf.float32)\n",
    "y = tf.placeholder(tf.float32)\n",
    "\n",
    "# 权重系数用变量表示\n",
    "w = tf.get_variable(\"w\", shape=[3,1])\n",
    "\n",
    "# 合并出一个张量，\n",
    "f = tf.stack([tf.square(x),x, tf.ones_like(x)], 1)\n",
    "\n",
    "# 实际g函数的值（这里消除了维度维1的轴，进行张量压缩）\n",
    "yhat = tf.squeeze(tf.matmul(f,w),1)\n",
    "\n",
    "# 定义损失函数\n",
    "loss = tf.nn.l2_loss(yhat - y) + 0.1 * tf.nn.l2_loss(w)\n",
    "\n",
    "# 定义优化操作\n",
    "train_op = tf.train.AdamOptimizer(0.01).minimize(loss)\n",
    "\n",
    "# 定义一个函数产生数据\n",
    "def generate_data():\n",
    "    x_val = np.random.uniform(-10.0, 10.0, size=100)\n",
    "    y_val = 5 * np.square(x_val) + 3\n",
    "    return x_val, y_val\n",
    "\n",
    "# 开启一个Session\n",
    "sess = tf.Session()\n",
    "sess.run(tf.global_variables_initializer())\n",
    "\n",
    "# 进行epoch=1000的迭代优化\n",
    "for i in range(1000):\n",
    "    # 产生数据\n",
    "    x_val, y_val = generate_data()\n",
    "    # 运行一次优化\n",
    "    _, loss_val = sess.run([train_op, loss], {x:x_val, y:y_val})\n",
    "    # 如果步长满足，则记录损失\n",
    "    if (i+1) % show_step == 0:\n",
    "        all_loss = np.append(all_loss, loss_val)\n",
    "\n",
    "# 画出损失变化曲线图\n",
    "x = np.arange(1,1001,show_step)\n",
    "plt.plot(x, all_loss, 'b', label = \"Loss\")\n",
    "plt.legend()\n",
    "plt.show()\n",
    "\n",
    "print(sess.run([w]))"
   ]
  },
  {
   "cell_type": "markdown",
   "metadata": {},
   "source": [
    "## 3 线性拟合\n",
    "\n",
    "拟合出一条y = x * 2 + 3的直线"
   ]
  },
  {
   "cell_type": "code",
   "execution_count": 4,
   "metadata": {},
   "outputs": [
    {
     "name": "stdout",
     "output_type": "stream",
     "text": [
      "Epoch is 99, cost is 0.438810259\n",
      "Epoch is 199, cost is 0.059446841\n",
      "Epoch is 299, cost is 0.008053469\n",
      "Epoch is 399, cost is 0.001090974\n",
      "Epoch is 499, cost is 0.000147801\n",
      "Epoch is 599, cost is 0.000020018\n",
      "Epoch is 699, cost is 0.000002707\n",
      "Epoch is 799, cost is 0.000000368\n",
      "Epoch is 899, cost is 0.000000045\n",
      "Epoch is 999, cost is 0.000000022\n",
      "Epoch is 1099, cost is 0.000000022\n",
      "Epoch is 1199, cost is 0.000000022\n",
      "Epoch is 1299, cost is 0.000000022\n",
      "Epoch is 1399, cost is 0.000000022\n",
      "Epoch is 1499, cost is 0.000000022\n",
      "Epoch is 1599, cost is 0.000000022\n",
      "Epoch is 1699, cost is 0.000000022\n",
      "Epoch is 1799, cost is 0.000000022\n",
      "Epoch is 1899, cost is 0.000000022\n",
      "Epoch is 1999, cost is 0.000000022\n",
      "Trainning Finished!\n"
     ]
    },
    {
     "data": {
      "image/png": "[encoded data removed]",
      "text/plain": [
       "<matplotlib.figure.Figure at 0x7fb56ee9ef28>"
      ]
     },
     "metadata": {},
     "output_type": "display_data"
    },
    {
     "name": "stdout",
     "output_type": "stream",
     "text": [
      "2.0\n",
      "3.60206\n"
     ]
    }
   ],
   "source": [
    "# 重置计算图\n",
    "tf.reset_default_graph()\n",
    "\n",
    "import tensorflow as tf\n",
    "import matplotlib.pyplot as plt\n",
    "import numpy as np\n",
    "\n",
    "# 迭代次数\n",
    "epoches = 2000\n",
    "show_step = 100\n",
    "\n",
    "# 训练数据\n",
    "xValue = np.arange(-10,10,1)\n",
    "yValue = xValue *2 + 3 + np.random.uniform(-10,10)\n",
    "\n",
    "# 记录样本总数\n",
    "nSamples = xValue.size\n",
    "\n",
    "X = tf.placeholder(dtype = tf.float32)\n",
    "Y = tf.placeholder(dtype = tf.float32)\n",
    "\n",
    "# 定义权值和偏置\n",
    "W = tf.Variable(np.random.randn())\n",
    "b = tf.Variable(np.random.randn())\n",
    "\n",
    "# 定义预测\n",
    "pred = tf.add(tf.multiply(X, W), b)\n",
    "\n",
    "# 定义损失函数\n",
    "loss = tf.reduce_sum(tf.pow(pred - Y, 2)) / (2 * nSamples)\n",
    "\n",
    "# 定义学习率\n",
    "learningRate = 0.01;\n",
    "# 定义训练器和优化操作\n",
    "trainer = tf.train.GradientDescentOptimizer(learning_rate=learningRate)\n",
    "optimizer = trainer.minimize(loss)\n",
    "\n",
    "# 定义初始化全局变量\n",
    "init = tf.global_variables_initializer()\n",
    "\n",
    "# 记录所有的损失\n",
    "all_loss = []\n",
    "\n",
    "# 在Session中运行\n",
    "with tf.Session() as sess:\n",
    "    sess.run(init)\n",
    "    \n",
    "    for epoch in range(epoches):\n",
    "        for (x, y) in zip(xValue, yValue):\n",
    "            sess.run(optimizer, feed_dict={X: x, Y: y})\n",
    "        \n",
    "        if (epoch + 1) % show_step == 0:\n",
    "            loss_val = sess.run(loss, feed_dict={X:xValue, Y:yValue})\n",
    "            all_loss = np.append(all_loss, loss_val)\n",
    "            print(\"Epoch is {}, cost is {:.9f}\".format(epoch, loss_val))\n",
    "            \n",
    "    print(\"Trainning Finished!\")\n",
    "    # 画图\n",
    "    x = np.arange(1,epoches +1, show_step)\n",
    "    plt.subplot(1,2,1)\n",
    "    plt.plot(xValue, yValue, 'ro', label = \"Original Data\")\n",
    "    plt.plot(xValue, sess.run(pred, feed_dict={X:xValue}), label = \"fitted Line\")\n",
    "    plt.legend()\n",
    "    plt.subplot(1,2,2)\n",
    "    plt.plot(x, all_loss, 'b', label =\"Loss\")\n",
    "    plt.show()\n",
    "    \n",
    "    print(sess.run(W))\n",
    "    print(sess.run(b))"
   ]
  },
  {
   "cell_type": "markdown",
   "metadata": {},
   "source": [
    "**注意：**\n",
    "上面两个都是回归的例子，但是细心一点就会发现，第一个例子使用的是`tf.matmul`第二个例子是使用的是哟`tf.multiply`，这两个不能混用，看看两个函数的定义：\n",
    "\n",
    "1. tf.multiply\n",
    "定义如下\n",
    "```\n",
    "tf.multiply(\n",
    "    x,\n",
    "    y,\n",
    "    name=None\n",
    ")\n",
    "```\n",
    "其中x和y都是两个张量，并没有限制x和y的rank是多少。其中那个name是可选参数，用于定义操作的名称，在日志中显示中会有用。\n",
    "\n",
    "2. tf.matmul\n",
    "定义如下：\n",
    "```\n",
    "tf.matmul(\n",
    "    a,\n",
    "    b,\n",
    "    transpose_a=False,\n",
    "    transpose_b=False,\n",
    "    adjoint_a=False,\n",
    "    adjoint_b=False,\n",
    "    a_is_sparse=False,\n",
    "    b_is_sparse=False,\n",
    "    name=None\n",
    ")\n",
    "```\n",
    "明显比简单的两个张量乘法函数multiply复杂的多，这个函数要求两个参数张量的rank必须是大于等于2，主要是对两个张量的内两个维度进行乘法运算。另外还支持系数张量的运算。下面的一个小例子演示一下。rank为2和3时函数的输出结果。"
   ]
  },
  {
   "cell_type": "code",
   "execution_count": 5,
   "metadata": {},
   "outputs": [
    {
     "name": "stdout",
     "output_type": "stream",
     "text": [
      "This is 2-d\n",
      "[[ 58  64]\n",
      " [139 154]]\n",
      "\n",
      "\n",
      "This is 3-d\n",
      "[[[ 94 100]\n",
      "  [229 244]]\n",
      "\n",
      " [[508 532]\n",
      "  [697 730]]]\n"
     ]
    }
   ],
   "source": [
    "tf.reset_default_graph()\n",
    "\n",
    "# 2-D tensor `a`\n",
    "# [[1, 2, 3],\n",
    "#  [4, 5, 6]]\n",
    "a = tf.constant([1, 2, 3, 4, 5, 6], shape=[2, 3])\n",
    "\n",
    "# 2-D tensor `b`\n",
    "# [[ 7,  8],\n",
    "#  [ 9, 10],\n",
    "#  [11, 12]]\n",
    "b = tf.constant([7, 8, 9, 10, 11, 12], shape=[3, 2])\n",
    "\n",
    "# `a` * `b`\n",
    "# [[ 58,  64],\n",
    "#  [139, 154]]\n",
    "c = tf.matmul(a, b)\n",
    "\n",
    "sess = tf.Session()\n",
    "\n",
    "print(\"This is 2-d\")\n",
    "print(sess.run(c))\n",
    "\n",
    "# 3-D tensor `a`\n",
    "# [[[ 1,  2,  3],\n",
    "#   [ 4,  5,  6]],\n",
    "#  [[ 7,  8,  9],\n",
    "#   [10, 11, 12]]]\n",
    "a = tf.constant(np.arange(1, 13, dtype=np.int32),\n",
    "                shape=[2, 2, 3])\n",
    "\n",
    "# 3-D tensor `b`\n",
    "# [[[13, 14],\n",
    "#   [15, 16],\n",
    "#   [17, 18]],\n",
    "#  [[19, 20],\n",
    "#   [21, 22],\n",
    "#   [23, 24]]]\n",
    "b = tf.constant(np.arange(13, 25, dtype=np.int32),\n",
    "                shape=[2, 3, 2])\n",
    "\n",
    "# `a` * `b`\n",
    "# [[[ 94, 100],\n",
    "#   [229, 244]],\n",
    "#  [[508, 532],\n",
    "#   [697, 730]]]\n",
    "c = tf.matmul(a, b)\n",
    "\n",
    "print(\"\\n\")\n",
    "print(\"This is 3-d\")\n",
    "print(sess.run(c))\n",
    "\n",
    "# Since python >= 3.5 the @ operator is supported (see PEP 465).\n",
    "# In TensorFlow, it simply calls the `tf.matmul()` function, so the\n",
    "# following lines are equivalent:\n",
    "# d = a @ b @ [[10.], [11.]]\n",
    "# d = tf.matmul(tf.matmul(a, b), [[10.], [11.]])\n",
    "\n",
    "# print(sess.run(d))"
   ]
  },
  {
   "cell_type": "markdown",
   "metadata": {},
   "source": [
    "## 4 理解静态shape和动态shape\n",
    "\n",
    "\n",
    "TensorFlow有两种shape，分别是：\n",
    "\n",
    "- 静态shape，在构建计算图的时候就已经知道了shape\n",
    "- 动态图，在实际的Session运行的时候才知道\n",
    "\n",
    "比如："
   ]
  },
  {
   "cell_type": "code",
   "execution_count": 6,
   "metadata": {},
   "outputs": [
    {
     "name": "stdout",
     "output_type": "stream",
     "text": [
      "(?, 128)\n",
      "[None, 128]\n"
     ]
    }
   ],
   "source": [
    "tf.reset_default_graph()\n",
    "\n",
    "a = tf.placeholder(tf.float32, [None,128])\n",
    "static_shape = a.shape\n",
    "print(static_shape)\n",
    "static_shape_list = static_shape.as_list()\n",
    "print(static_shape_list)"
   ]
  },
  {
   "cell_type": "markdown",
   "metadata": {},
   "source": [
    "使用`tf.shape`获取数据的动态shape，比如："
   ]
  },
  {
   "cell_type": "code",
   "execution_count": 7,
   "metadata": {},
   "outputs": [
    {
     "name": "stdout",
     "output_type": "stream",
     "text": [
      "Tensor(\"Shape:0\", shape=(2,), dtype=int32)\n"
     ]
    }
   ],
   "source": [
    "dynamic_shape = tf.shape(a)\n",
    "print(dynamic_shape)"
   ]
  },
  {
   "cell_type": "markdown",
   "metadata": {},
   "source": [
    "也可以使用`set_shape`方法设置shape，静态动态都可以,前提必须是兼容的，也就是如果一个张量被定义成一个动态类型，可以被设置尺寸兼容的静态类型，然后就不能改了。"
   ]
  },
  {
   "cell_type": "code",
   "execution_count": 8,
   "metadata": {},
   "outputs": [
    {
     "name": "stdout",
     "output_type": "stream",
     "text": [
      "[32, 128]\n",
      "(32, 128)\n"
     ]
    }
   ],
   "source": [
    "a.set_shape([32,128])\n",
    "print(a.shape.as_list())\n",
    "a.set_shape([None, 128])\n",
    "print(a.shape)"
   ]
  },
  {
   "cell_type": "code",
   "execution_count": 9,
   "metadata": {},
   "outputs": [
    {
     "name": "stdout",
     "output_type": "stream",
     "text": [
      "[None, 128]\n",
      "[32, 32]\n"
     ]
    }
   ],
   "source": [
    "b = tf.placeholder(tf.float32, [None, 128])\n",
    "print(b.shape.as_list())\n",
    "b = tf.reshape(b, [32,32])\n",
    "print(b.shape.as_list())"
   ]
  },
  {
   "cell_type": "markdown",
   "metadata": {},
   "source": [
    "可以使用`tf.reshape`方法进行修改shape，但是只是对动态类型进行reshape"
   ]
  },
  {
   "cell_type": "code",
   "execution_count": null,
   "metadata": {},
   "outputs": [],
   "source": []
  }
 ],
 "metadata": {
  "kernelspec": {
   "display_name": "Python 3",
   "language": "python",
   "name": "python3"
  },
  "language_info": {
   "codemirror_mode": {
    "name": "ipython",
    "version": 3
   },
   "file_extension": ".py",
   "mimetype": "text/x-python",
   "name": "python",
   "nbconvert_exporter": "python",
   "pygments_lexer": "ipython3",
   "version": "3.5.4"
  }
 },
 "nbformat": 4,
 "nbformat_minor": 2
}
