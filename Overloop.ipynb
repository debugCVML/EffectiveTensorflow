{
 "cells": [
  {
   "cell_type": "markdown",
   "metadata": {},
   "source": [
    "# Effective TensorFlow"
   ]
  },
  {
   "cell_type": "markdown",
   "metadata": {},
   "source": [
    "## 基本的数据结构"
   ]
  },
  {
   "cell_type": "code",
   "execution_count": 5,
   "metadata": {},
   "outputs": [
    {
     "name": "stdout",
     "output_type": "stream",
     "text": [
      "[[ -1.78212673e+00   2.98093113e+00   1.17802468e-02  -2.79744859e+00\n",
      "    4.14846525e+00   6.66326608e-01   9.67064818e-02  -9.68573714e-01\n",
      "    1.20665480e+00  -1.93818340e+00]\n",
      " [  3.39140273e+00   1.24432153e+00   8.65134280e+00  -3.42313376e-01\n",
      "   -9.69198705e+00   9.13915854e-01   7.15208745e+00   6.02739962e-01\n",
      "    1.33324499e+00  -3.77915041e+00]\n",
      " [  2.06479186e+00   8.70060529e+00   6.21456225e+00   7.23732926e-01\n",
      "   -1.11373196e+00  -4.84575978e+00  -3.03045560e-01  -2.93331079e+00\n",
      "    3.61322060e+00  -3.70356863e+00]\n",
      " [ -1.00128695e+00  -2.47069236e+00   4.08472902e-02  -9.57127400e-01\n",
      "   -2.48312190e+00   1.56809090e+00   1.58981819e+00  -3.04656265e+00\n",
      "    1.00732221e+00   4.50124453e-01]\n",
      " [  4.17791451e+00   6.03795895e-01   7.25412574e-03   2.58180577e-01\n",
      "   -1.47784633e+00   8.25271316e+00  -8.93118460e-01   1.29917322e+00\n",
      "   -3.10732787e+00   1.27936260e+00]\n",
      " [ -2.45272953e+00   1.87439659e+00  -1.40151240e+00   1.85278698e+00\n",
      "    4.50644770e+00  -6.44062047e+00   1.97561757e+00   2.01792694e+00\n",
      "   -2.80434083e+00   7.98147483e-01]\n",
      " [ -2.50625381e+00   2.45706649e+00   5.48097416e-01   3.28088887e-01\n",
      "    3.97297268e+00   7.80528959e-01   1.36530485e+00  -4.87520299e+00\n",
      "    2.55530556e+00   2.21279702e+00]\n",
      " [  1.59839528e-01   5.36173720e+00   5.10671099e+00   1.71524238e+00\n",
      "   -1.27349895e+00  -4.92379823e+00   4.10935088e+00   5.88934535e+00\n",
      "   -3.80386149e+00  -5.79326244e+00]\n",
      " [ -2.41870297e+00  -8.26562649e-02   1.50679618e+00   2.20093133e+00\n",
      "   -2.10834604e-01  -3.85208246e+00   6.99205759e-01  -5.44715521e-01\n",
      "    3.59561762e-01  -1.05879985e+00]\n",
      " [  1.31781846e+00   5.02284178e+00   3.10467997e+00   2.44739052e+00\n",
      "    9.26793461e-01  -5.84223709e+00   1.29550630e+00   1.79932845e+00\n",
      "   -3.82974016e-01  -5.50862473e-01]]\n"
     ]
    }
   ],
   "source": [
    "# Numpy\n",
    "import numpy as np\n",
    "\n",
    "x = np.random.normal(size=[10,10])\n",
    "y = np.random.normal(size=[10,10])\n",
    "z = np.dot(x,y)\n",
    "\n",
    "print(z)"
   ]
  },
  {
   "cell_type": "code",
   "execution_count": 6,
   "metadata": {},
   "outputs": [
    {
     "name": "stdout",
     "output_type": "stream",
     "text": [
      "[[ 3.89787912  0.60955209  2.58845949  3.06247616 -0.8248505  -3.15779781\n",
      "   6.18050098 -2.37518096 -1.63380706 -0.98127538]\n",
      " [-0.04803039 -2.68208838 -1.67618728  2.3443346  -6.68696642  6.16217327\n",
      "  -4.74458456 -1.30156183 -4.69258356 -8.72680569]\n",
      " [-0.01394822 -4.1602211   2.24364805 -1.80981159 -6.14349985  3.96890044\n",
      "  -1.3210355   2.91617465  2.53102183 -1.49825943]\n",
      " [ 1.41149437 -2.26707983  0.21063167  6.6359725  -3.21721792  4.94572639\n",
      "  -1.99731278  0.84482706 -4.92871952 -3.58642054]\n",
      " [-1.19291151  2.43725681  0.21192867 -0.3232733   2.8479991  -1.92051625\n",
      "  -1.50747061 -0.63143891 -0.7462436  -3.42995119]\n",
      " [ 0.80983335 -2.73893547  1.99015307 -1.62789047 -5.37080812  0.46708196\n",
      "   0.56481302 -0.1952014   0.01098764  1.78447604]\n",
      " [ 2.63759398  0.36948898 -4.85532045 -0.13870472  1.65468287  1.3576926\n",
      "   1.39001262 -1.05754137 -1.31507194 -0.23729149]\n",
      " [-4.03695107  1.43149281  0.13585898 -3.53229237  4.03414869 -2.44441032\n",
      "  -2.82206559  0.28998756  2.59111166  2.69303894]\n",
      " [ 0.44465232  2.24147153 -1.40225446  4.88115263  5.91174936 -5.93023062\n",
      "  -1.23627305 -3.99759293 -7.61260653  1.03412223]\n",
      " [-0.07591769 -0.6243391   6.58133984  5.23904991 -9.33518028  5.42143345\n",
      "   2.88751411 -2.95466232  2.88810539 -5.49951649]]\n"
     ]
    }
   ],
   "source": [
    "# TensorFlow\n",
    "import tensorflow as tf\n",
    "x = tf.random_normal([10,10])\n",
    "y = tf.random_normal([10,10])\n",
    "z = tf.matmul(x,y)\n",
    "\n",
    "with tf.Session() as sess:\n",
    "    print(sess.run(z))"
   ]
  },
  {
   "cell_type": "markdown",
   "metadata": {},
   "source": [
    "## 使用TensorFlow拟合曲线"
   ]
  },
  {
   "cell_type": "code",
   "execution_count": 12,
   "metadata": {},
   "outputs": [
    {
     "ename": "NameError",
     "evalue": "name 's' is not defined",
     "output_type": "error",
     "traceback": [
      "\u001b[0;31m---------------------------------------------------------------------------\u001b[0m",
      "\u001b[0;31mNameError\u001b[0m                                 Traceback (most recent call last)",
      "\u001b[0;32m<ipython-input-12-322a3a0b4e2f>\u001b[0m in \u001b[0;36m<module>\u001b[0;34m()\u001b[0m\n\u001b[1;32m      8\u001b[0m \u001b[0mw\u001b[0m \u001b[0;34m=\u001b[0m \u001b[0mtf\u001b[0m\u001b[0;34m.\u001b[0m\u001b[0mget_variable\u001b[0m\u001b[0;34m(\u001b[0m\u001b[0;34m\"w\"\u001b[0m\u001b[0;34m,\u001b[0m \u001b[0mshape\u001b[0m\u001b[0;34m=\u001b[0m\u001b[0;34m[\u001b[0m\u001b[0;36m3\u001b[0m\u001b[0;34m,\u001b[0m\u001b[0;36m1\u001b[0m\u001b[0;34m]\u001b[0m\u001b[0;34m)\u001b[0m\u001b[0;34m\u001b[0m\u001b[0m\n\u001b[1;32m      9\u001b[0m \u001b[0;34m\u001b[0m\u001b[0m\n\u001b[0;32m---> 10\u001b[0;31m \u001b[0mprint\u001b[0m\u001b[0;34m(\u001b[0m\u001b[0ms\u001b[0m\u001b[0;34m)\u001b[0m\u001b[0;34m\u001b[0m\u001b[0m\n\u001b[0m\u001b[1;32m     11\u001b[0m \u001b[0;34m\u001b[0m\u001b[0m\n\u001b[1;32m     12\u001b[0m \u001b[0mf\u001b[0m \u001b[0;34m=\u001b[0m \u001b[0mtf\u001b[0m\u001b[0;34m.\u001b[0m\u001b[0mstack\u001b[0m\u001b[0;34m(\u001b[0m\u001b[0;34m[\u001b[0m\u001b[0mtf\u001b[0m\u001b[0;34m.\u001b[0m\u001b[0msquare\u001b[0m\u001b[0;34m(\u001b[0m\u001b[0mx\u001b[0m\u001b[0;34m)\u001b[0m\u001b[0;34m,\u001b[0m\u001b[0mx\u001b[0m\u001b[0;34m,\u001b[0m \u001b[0mtf\u001b[0m\u001b[0;34m.\u001b[0m\u001b[0mones_like\u001b[0m\u001b[0;34m(\u001b[0m\u001b[0mx\u001b[0m\u001b[0;34m)\u001b[0m\u001b[0;34m]\u001b[0m\u001b[0;34m,\u001b[0m \u001b[0;36m1\u001b[0m\u001b[0;34m)\u001b[0m\u001b[0;34m\u001b[0m\u001b[0m\n",
      "\u001b[0;31mNameError\u001b[0m: name 's' is not defined"
     ]
    }
   ],
   "source": [
    "tf.reset_default_graph()\n",
    "\n",
    "import tensorflow as tf\n",
    "\n",
    "x = tf.placeholder(tf.float32)\n",
    "y = tf.placeholder(tf.float32)\n",
    "\n",
    "w = tf.get_variable(\"w\", shape=[3,1])\n",
    "\n",
    "print(s)\n",
    "\n",
    "f = tf.stack([tf.square(x),x, tf.ones_like(x)], 1)\n",
    "yhat = tf.squeeze(tf.matmul(f,w),1)\n",
    "\n",
    "loss = tf.nn.l2_loss(yhat - y) + 0.1 * tf.nn.l2_loss(w)\n",
    "\n",
    "train_op = tf.train.AdamOptimizer(0.1).minimize(loss)\n",
    "\n",
    "def generate_data():\n",
    "    x_val = np.random.uniform(-10.0, 10.0, size=100)\n",
    "    y_val = 5 * np.square(x_val) + 3\n",
    "    return x_val, y_val\n",
    "\n",
    "sess = tf.Session()\n",
    "sess.run(tf.global_variables_initializer())\n",
    "\n",
    "for _ in range(1000):\n",
    "    x_val, y_val = generate_data()\n",
    "    _, loss_val = sess.run([train_op, loss], {x:x_val, y:y_val})\n",
    "    print(loss_val)\n",
    "print(sess.run([w]))"
   ]
  },
  {
   "cell_type": "code",
   "execution_count": null,
   "metadata": {},
   "outputs": [],
   "source": []
  }
 ],
 "metadata": {
  "kernelspec": {
   "display_name": "Python 3",
   "language": "python",
   "name": "python3"
  },
  "language_info": {
   "codemirror_mode": {
    "name": "ipython",
    "version": 3
   },
   "file_extension": ".py",
   "mimetype": "text/x-python",
   "name": "python",
   "nbconvert_exporter": "python",
   "pygments_lexer": "ipython3",
   "version": "3.5.4"
  }
 },
 "nbformat": 4,
 "nbformat_minor": 2
}
